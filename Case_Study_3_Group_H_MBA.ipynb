{
  "nbformat": 4,
  "nbformat_minor": 0,
  "metadata": {
    "colab": {
      "provenance": [],
      "authorship_tag": "ABX9TyOF8jNdowFewEP3jrnYmsi4",
      "include_colab_link": true
    },
    "kernelspec": {
      "name": "python3",
      "display_name": "Python 3"
    },
    "language_info": {
      "name": "python"
    }
  },
  "cells": [
    {
      "cell_type": "markdown",
      "metadata": {
        "id": "view-in-github",
        "colab_type": "text"
      },
      "source": [
        "<a href=\"https://colab.research.google.com/github/divinadira/Case-Study-3-Data-Mining_Association-Rules_Group-H/blob/main/Case_Study_3_Group_H_MBA.ipynb\" target=\"_parent\"><img src=\"https://colab.research.google.com/assets/colab-badge.svg\" alt=\"Open In Colab\"/></a>"
      ]
    },
    {
      "cell_type": "markdown",
      "source": [
        "# **Group H**\n",
        "1. Rosyda Hanavania\n",
        "2. Zalfa Nurfadhilah Haris\n",
        "3. Eslim Suyangsu\n",
        "4. Muhammad Fabian Alkautsar\n",
        "5. Timothy Devan Chandra\n",
        "6. M. Dzaky Jaya\n",
        "7. Divina Fatriandira\n",
        "\n"
      ],
      "metadata": {
        "id": "Usb8IeC02C9U"
      }
    },
    {
      "cell_type": "markdown",
      "source": [
        "# Kasus\n",
        "\n",
        "* AlfaIndo adalah sebuah toko waralaba yang memiliki beberapa cabang di kota-kota besar di Indonesia seperti Jakarta, Depok, Surabaya, dan Medan.\n",
        "* Kami adalah seorang Data Analyst yang bekerja di kantor pusat AlfaIndo di Jakarta.\n",
        "* Pasca masa pandemi **Toko AlfaIndo cabang UI Depok mengalami penurunan laba yang signifikan**.\n",
        "* Kami ditugaskan oleh pimpinan untuk membantu toko AlfaIndo cabang UI Depok untuk bangkit dari keterpurukannya.\n",
        "\n",
        "# Tujuan\n",
        "\n",
        "Membuat rekomendasi dari data transaksi agar membantu toko AlfaIndo cabang UI Depok untuk bangkit dari penurunan laba\n"
      ],
      "metadata": {
        "id": "btQAh_Cv3HLM"
      }
    },
    {
      "cell_type": "markdown",
      "source": [
        "# Modul dan Packages yang Digunakan"
      ],
      "metadata": {
        "id": "crK0dHHYvzO1"
      }
    },
    {
      "cell_type": "code",
      "source": [
        "# IMPORT MODULE\n",
        "try:\n",
        "    import google.colab as gc_\n",
        "    print(\"Running the code in Google Colab.\", gc_) #IN_COLAB = True\n",
        "    print(\"Installing required Module, please wait ... \")\n",
        "    !pip install mlxtend \n",
        "    !pip install pycaret\n",
        "except:\n",
        "    print(\"Running the code locally, make sure to install required modules.\")"
      ],
      "metadata": {
        "id": "OugmGEA0vktm"
      },
      "execution_count": null,
      "outputs": []
    },
    {
      "cell_type": "code",
      "source": [
        "import warnings; warnings.simplefilter('ignore')\n",
        "import pandas as pd, matplotlib.pyplot as plt, seaborn as sns\n",
        "from itertools import combinations\n",
        "from collections import Counter\n",
        "from mlxtend.frequent_patterns import apriori\n",
        "from mlxtend.frequent_patterns import association_rules\n",
        "from pycaret.arules import *\n",
        "\n",
        "%matplotlib inline\n",
        "plt.style.use('bmh'); sns.set()"
      ],
      "metadata": {
        "id": "Q_jPsBYx35ic"
      },
      "execution_count": null,
      "outputs": []
    },
    {
      "cell_type": "markdown",
      "source": [
        "# Penginputan Data\n",
        "Data transaksi yang diberikan adalah dalam format excel. Kami mengubah format file tersebut menjadi csv karena scalability dari format csv lebih luas dibandingkan dengan format excel.\n"
      ],
      "metadata": {
        "id": "HG1Y270Yv7-z"
      }
    },
    {
      "cell_type": "code",
      "source": [
        "# Input Data\n",
        "import pandas as pd\n",
        "\n",
        "try: \n",
        "    df = pd.read_csv(\"data/jakarta.csv\", low_memory = False, encoding='utf8') \n",
        "except:\n",
        "    !mkdir data\n",
        "    !wget -P data/ https://raw.githubusercontent.com/taufiksutanto/ADM-Case-01-EDA/master/data/jakarta.csv\n",
        "    df = pd.read_csv(\"data/jakarta.csv\", low_memory = False, encoding='utf8')\n",
        "\n",
        "df.shape()"
      ],
      "metadata": {
        "id": "mGNq8mj3v-8E"
      },
      "execution_count": null,
      "outputs": []
    },
    {
      "cell_type": "markdown",
      "source": [
        "# ***PREPROCESSING DATA***"
      ],
      "metadata": {
        "id": "xw1k7vyov_iH"
      }
    },
    {
      "cell_type": "markdown",
      "source": [
        "## Informasi Data"
      ],
      "metadata": {
        "id": "twWMpoQr5_GQ"
      }
    },
    {
      "cell_type": "code",
      "source": [
        "# Cuplikan data teratas\n",
        "df.head()"
      ],
      "metadata": {
        "id": "A-PS2E0d2pI9"
      },
      "execution_count": null,
      "outputs": []
    },
    {
      "cell_type": "code",
      "source": [
        "# Cuplikan data terbawah\n",
        "df.tail()"
      ],
      "metadata": {
        "id": "0bUnctzE4DmY"
      },
      "execution_count": null,
      "outputs": []
    },
    {
      "cell_type": "code",
      "source": [
        "# Informasi data\n",
        "df.info()"
      ],
      "metadata": {
        "id": "vu6DIwfW4Eml"
      },
      "execution_count": null,
      "outputs": []
    },
    {
      "cell_type": "markdown",
      "source": [
        "**Catatan** (apa yang harus dilakukan dengan data jika dilihat dari df.info()\n",
        "\n",
        "Data terdiri dari () baris dan () kolom. Hal yang kami dapatkan dari hasil analisis awal di atas adalah:\n",
        "* Test\n",
        "* Test\n",
        "* Test\n",
        "* Test"
      ],
      "metadata": {
        "id": "3JbpMnYH4H80"
      }
    },
    {
      "cell_type": "code",
      "source": [],
      "metadata": {
        "id": "xNij4fCm4eM6"
      },
      "execution_count": null,
      "outputs": []
    },
    {
      "cell_type": "markdown",
      "source": [
        "**Catatan**\n",
        "\n",
        "Dari hasil Deskriptif Data dan analisa kami, kami mendapat beberapa informasi berikut:\n",
        "* Test\n",
        "* Test\n",
        "* Test"
      ],
      "metadata": {
        "id": "emvU_3_15MFv"
      }
    },
    {
      "cell_type": "markdown",
      "source": [
        "## Noise"
      ],
      "metadata": {
        "id": "6j1pATmV534Y"
      }
    },
    {
      "cell_type": "code",
      "source": [],
      "metadata": {
        "id": "HkEqwlN458ZV"
      },
      "execution_count": null,
      "outputs": []
    },
    {
      "cell_type": "markdown",
      "source": [
        "## Missing Values"
      ],
      "metadata": {
        "id": "mqjwTkR66FZj"
      }
    },
    {
      "cell_type": "code",
      "source": [],
      "metadata": {
        "id": "Fx0UvF0s6HMm"
      },
      "execution_count": null,
      "outputs": []
    },
    {
      "cell_type": "markdown",
      "source": [
        "## Outlier"
      ],
      "metadata": {
        "id": "JXIix7Tj6Hl2"
      }
    },
    {
      "cell_type": "code",
      "source": [],
      "metadata": {
        "id": "L7eFV62i6JM8"
      },
      "execution_count": null,
      "outputs": []
    },
    {
      "cell_type": "markdown",
      "source": [
        "# ***EXPLORATORY DATA ANALYSIS***"
      ],
      "metadata": {
        "id": "ILxeLZlD6Qf4"
      }
    },
    {
      "cell_type": "code",
      "source": [],
      "metadata": {
        "id": "HWuQ84zV6XUp"
      },
      "execution_count": null,
      "outputs": []
    },
    {
      "cell_type": "markdown",
      "source": [
        "# ***MARKET BASKET ANALYSIS***"
      ],
      "metadata": {
        "id": "56QOAuT86yQ1"
      }
    },
    {
      "cell_type": "markdown",
      "source": [
        "## Mengubah format data"
      ],
      "metadata": {
        "id": "9aXzHeaz69zR"
      }
    },
    {
      "cell_type": "code",
      "source": [],
      "metadata": {
        "id": "8SosuBif66Q8"
      },
      "execution_count": null,
      "outputs": []
    },
    {
      "cell_type": "markdown",
      "source": [
        "## Penggunaan MLXTend"
      ],
      "metadata": {
        "id": "z2Js5Ycw7AxO"
      }
    },
    {
      "cell_type": "markdown",
      "source": [
        "### Menemukan Itemsets yang Paling Sering Dibeli"
      ],
      "metadata": {
        "id": "IiG6xjjh7NIM"
      }
    },
    {
      "cell_type": "code",
      "source": [],
      "metadata": {
        "id": "NFmABT_a7Ig4"
      },
      "execution_count": null,
      "outputs": []
    },
    {
      "cell_type": "markdown",
      "source": [
        "**Catatan**"
      ],
      "metadata": {
        "id": "HyuopbZd7bCA"
      }
    },
    {
      "cell_type": "markdown",
      "source": [
        "### Menemukan Association Rules dari Data"
      ],
      "metadata": {
        "id": "RmW63gif7p15"
      }
    },
    {
      "cell_type": "code",
      "source": [],
      "metadata": {
        "id": "JJ5l_qDX7v7Z"
      },
      "execution_count": null,
      "outputs": []
    },
    {
      "cell_type": "markdown",
      "source": [
        "**Catatan**"
      ],
      "metadata": {
        "id": "Z9AHiL487wjB"
      }
    },
    {
      "cell_type": "markdown",
      "source": [
        "# ***PENUTUP***"
      ],
      "metadata": {
        "id": "_mXfEvYO7zES"
      }
    },
    {
      "cell_type": "markdown",
      "source": [
        "## Rekomendasi untuk Toko AlfaIndo Cabang UI Depok\n",
        "\n"
      ],
      "metadata": {
        "id": "Ez-h6-ww8DcU"
      }
    },
    {
      "cell_type": "markdown",
      "source": [
        "## Rekomendasi untuk Data Engineer dan/atau Data Architect"
      ],
      "metadata": {
        "id": "ypLuRxFk8ROR"
      }
    }
  ]
}