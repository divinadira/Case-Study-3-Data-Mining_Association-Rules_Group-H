{
  "nbformat": 4,
  "nbformat_minor": 0,
  "metadata": {
    "colab": {
      "provenance": [],
      "authorship_tag": "ABX9TyPlsXF0yKUEaiyXwEoa/jGc",
      "include_colab_link": true
    },
    "kernelspec": {
      "name": "python3",
      "display_name": "Python 3"
    },
    "language_info": {
      "name": "python"
    }
  },
  "cells": [
    {
      "cell_type": "markdown",
      "metadata": {
        "id": "view-in-github",
        "colab_type": "text"
      },
      "source": [
        "<a href=\"https://colab.research.google.com/github/divinadira/Case-Study-3-Data-Mining_Association-Rules_Group-H/blob/main/Case-Study-3_Group-H_MBA.ipynb\" target=\"_parent\"><img src=\"https://colab.research.google.com/assets/colab-badge.svg\" alt=\"Open In Colab\"/></a>"
      ]
    },
    {
      "cell_type": "markdown",
      "source": [
        "# **Group H**\n",
        "1. Rosyda Hanavania\n",
        "2. Zalfa Nurfadhilah Haris\n",
        "3. Eslim Suyangsu\n",
        "4. Muhammad Fabian Alkautsar\n",
        "5. Timothy Devan Chandra\n",
        "6. M. Dzaky Jaya\n",
        "7. Divina Fatriandira\n",
        "\n"
      ],
      "metadata": {
        "id": "Usb8IeC02C9U"
      }
    },
    {
      "cell_type": "markdown",
      "source": [
        "# Kasus\n",
        "\n",
        "* AlfaIndo adalah sebuah toko waralaba yang memiliki beberapa cabang di kota-kota besar di Indonesia seperti Jakarta, Depok, Surabaya, dan Medan.\n",
        "* Kami adalah seorang Data Analyst yang bekerja di kantor pusat AlfaIndo di Jakarta.\n",
        "* Pasca masa pandemi **Toko AlfaIndo cabang UI Depok mengalami penurunan laba yang signifikan**.\n",
        "* Kami ditugaskan oleh pimpinan untuk membantu toko AlfaIndo cabang UI Depok untuk bangkit dari keterpurukannya.\n",
        "\n",
        "# Tujuan\n",
        "\n",
        "Membuat rekomendasi dari data transaksi agar membantu toko AlfaIndo cabang UI Depok untuk bangkit dari penurunan laba\n"
      ],
      "metadata": {
        "id": "btQAh_Cv3HLM"
      }
    },
    {
      "cell_type": "markdown",
      "source": [
        "# Modul yang Digunakan"
      ],
      "metadata": {
        "id": "crK0dHHYvzO1"
      }
    },
    {
      "cell_type": "code",
      "source": [
        "# IMPORT MODULE\n"
      ],
      "metadata": {
        "id": "OugmGEA0vktm"
      },
      "execution_count": null,
      "outputs": []
    },
    {
      "cell_type": "markdown",
      "source": [
        "# Penginputan Data"
      ],
      "metadata": {
        "id": "HG1Y270Yv7-z"
      }
    },
    {
      "cell_type": "code",
      "source": [],
      "metadata": {
        "id": "mGNq8mj3v-8E"
      },
      "execution_count": null,
      "outputs": []
    },
    {
      "cell_type": "markdown",
      "source": [
        "# ***DATA PREPROCESSING***"
      ],
      "metadata": {
        "id": "xw1k7vyov_iH"
      }
    }
  ]
}